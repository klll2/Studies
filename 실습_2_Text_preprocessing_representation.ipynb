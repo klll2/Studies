{
  "cells": [
    {
      "cell_type": "markdown",
      "metadata": {
        "id": "RDdaXxTuZ-oa"
      },
      "source": [
        "## [HUFS NLP] 자연어 처리 이론 및 실습 # 2 : Text preprocessing & representation\n",
        "* Word2bVec\n",
        "* GloVe\n",
        "* FastText\n",
        "\n",
        "예상 난이도 ⭐️"
      ]
    },
    {
      "cell_type": "markdown",
      "metadata": {
        "id": "pH2OUSs8tdg9"
      },
      "source": [
        "## 실습 요약\n",
        "* 분상표상 기반의 임베딩 기법을 학습합니다\n",
        "* 여러가지 임베딩 기법을 통해 간단한 모델을 구축한 후 성능을 비교합니다"
      ]
    },
    {
      "cell_type": "markdown",
      "metadata": {
        "id": "XvnpBm1PtVeV"
      },
      "source": [
        "------"
      ]
    },
    {
      "cell_type": "markdown",
      "metadata": {
        "id": "xVvGtj7vYQ5v"
      },
      "source": [
        "### STEP 0. 환경 구축하기\n",
        "* 필요한 library들을 import 합니다"
      ]
    },
    {
      "cell_type": "code",
      "execution_count": 1,
      "metadata": {
        "id": "Ie8Y84-3yCz0"
      },
      "outputs": [],
      "source": [
        "! pip install konlpy -q\n",
        "! pip install glove-python3 -q"
      ]
    },
    {
      "cell_type": "code",
      "execution_count": 2,
      "metadata": {
        "colab": {
          "base_uri": "https://localhost:8080/"
        },
        "id": "WtIPKkNiaosp",
        "outputId": "d94fb04c-09c6-4aaf-ce64-010c0e1e35db"
      },
      "outputs": [
        {
          "output_type": "stream",
          "name": "stdout",
          "text": [
            "PyTorch version:[2.1.0+cu121].\n",
            "device:[cpu].\n"
          ]
        }
      ],
      "source": [
        "import random\n",
        "import numpy as np\n",
        "import pandas as pd\n",
        "from time import time\n",
        "from tqdm import tqdm\n",
        "import matplotlib.pyplot as plt\n",
        "plt.rcParams['axes.unicode_minus'] = False\n",
        "#%matplotlib inline #생성한 figure를 notebook에서 볼 수있게 해주는 코드\n",
        "\n",
        "import gensim\n",
        "import torch\n",
        "import torch.nn as nn\n",
        "import torch.optim as optim\n",
        "import torch.nn.functional as F\n",
        "\n",
        "#check torch version & device\n",
        "print (\"PyTorch version:[%s].\"%(torch.__version__))\n",
        "device = torch.device('cuda:0' if torch.cuda.is_available() else 'cpu')\n",
        "print (\"device:[%s].\"%(device))"
      ]
    },
    {
      "cell_type": "code",
      "execution_count": 3,
      "metadata": {
        "id": "rUM2BsZMcCzC"
      },
      "outputs": [],
      "source": [
        "# set random seed\n",
        "\n",
        "def set_seed(random_seed):\n",
        "    torch.manual_seed(random_seed)\n",
        "    torch.cuda.manual_seed(random_seed)\n",
        "    torch.cuda.manual_seed_all(random_seed)  # if use multi-GPU\n",
        "    torch.backends.cudnn.deterministic = True\n",
        "    torch.backends.cudnn.benchmark = False\n",
        "    np.random.seed(random_seed)\n",
        "    random.seed(random_seed)\n",
        "\n",
        "random_seed = 2024\n",
        "set_seed(random_seed)"
      ]
    },
    {
      "cell_type": "markdown",
      "metadata": {
        "id": "FACcqNcFcExO"
      },
      "source": [
        "### STEP 1. 데이터 준비하기\n",
        "금일 실습에서는 **Naver_shopping**에서 수집된 **리뷰 데이터**를 활용합니다.\n",
        "* 제품별 후기를 별점과 함께 수집한 데이터\n",
        "* 데이터셋 출처\n",
        "\n",
        "  * 1) https://github.com/songys/AwesomeKorean_Data\n",
        "  * 2) https://github.com/bab2min/corpus/tree/master/sentiment\n",
        "\n",
        "\n",
        "* 해당 실습에서는 전체 데이터 중 50%인 10만개의 데이터를 사용함 (긍정 : 50000개, 부정 : 50000개)\n",
        "\n",
        "\n"
      ]
    },
    {
      "cell_type": "code",
      "execution_count": 4,
      "metadata": {
        "id": "_prvLfHKcGqQ"
      },
      "outputs": [],
      "source": [
        "# 데이터셋 읽기\n",
        "with open('./naver_shopping.txt','r',encoding='utf-8') as f:\n",
        "  data = f.readlines()"
      ]
    },
    {
      "cell_type": "code",
      "execution_count": 5,
      "metadata": {
        "colab": {
          "base_uri": "https://localhost:8080/"
        },
        "id": "aeFWxr9bMOWh",
        "outputId": "8ee13da1-5c62-4b2d-dc58-96c79a8690bf"
      },
      "outputs": [
        {
          "output_type": "stream",
          "name": "stderr",
          "text": [
            "100%|██████████| 200000/200000 [00:00<00:00, 361655.87it/s]\n"
          ]
        }
      ],
      "source": [
        "# 분석에 사용할 형태로 가공하기\n",
        "rate = []\n",
        "label = []\n",
        "sentence = []\n",
        "for cur_review in tqdm(data):\n",
        "  # 평점과 리뷰 문장 분리\n",
        "  cur_review = cur_review.split('\\t')\n",
        "  # 평점\n",
        "  rate.append(cur_review[0])\n",
        "  # 리뷰 문장\n",
        "  sentence.append(cur_review[1].strip('\\n'))\n",
        "  # 평점 4,5 : Positive,\n",
        "  # 평점 1,2 : Negative\n",
        "  if int(cur_review[0]) >3:\n",
        "    label.append(1) # positive\n",
        "  else:\n",
        "    label.append(-1) # negative"
      ]
    },
    {
      "cell_type": "code",
      "execution_count": 6,
      "metadata": {
        "id": "BnaQBc06MmWn"
      },
      "outputs": [],
      "source": [
        "# 데이터 프레임 형태로 변환하기\n",
        "df = {\n",
        "    \"rate\" : rate,\n",
        "    \"label\" : label,\n",
        "    \"sentence\" : sentence\n",
        "}\n",
        "df = pd.DataFrame(df)\n",
        "df = df.sample(frac=0.5,replace=False, random_state=2024)"
      ]
    },
    {
      "cell_type": "code",
      "execution_count": 7,
      "metadata": {
        "colab": {
          "base_uri": "https://localhost:8080/",
          "height": 448
        },
        "id": "Y51bkahCNxfU",
        "outputId": "ade8268a-6ffd-49ed-cb64-dbbc58c9b617"
      },
      "outputs": [
        {
          "output_type": "execute_result",
          "data": {
            "text/plain": [
              "<Axes: >"
            ]
          },
          "metadata": {},
          "execution_count": 7
        },
        {
          "output_type": "display_data",
          "data": {
            "text/plain": [
              "<Figure size 640x480 with 1 Axes>"
            ],
            "image/png": "[encoded data removed]"
          },
          "metadata": {}
        }
      ],
      "source": [
        "df['label'].hist()"
      ]
    },
    {
      "cell_type": "code",
      "execution_count": 8,
      "metadata": {
        "colab": {
          "base_uri": "https://localhost:8080/",
          "height": 206
        },
        "id": "giZkNb0_OohV",
        "outputId": "10cf0b4b-15c7-401b-d297-d8ea7fe06942"
      },
      "outputs": [
        {
          "output_type": "execute_result",
          "data": {
            "text/plain": [
              "       rate  label                                           sentence\n",
              "17285     4      1  커플로 쓰려고 구매했습니다:) 여자에게는 사이즈가 맞는데 남자한테는 살짝 작네요 음...\n",
              "103773    2     -1                                    물에다았을때 지속력이떨어져요\n",
              "13313     2     -1                          많이 실망햇어요.. 앞으로 식품은 안시켜먹을듯\n",
              "151444    5      1                                         방수에 쓰기 좋아요\n",
              "10193     5      1  여름이라 피부가 많이 타서 기존피어싱이 잘 안어울렸는데 네온컬러 예뻐요!!💚🧡운동때..."
            ],
            "text/html": [
              "\n",
              "  <div id=\"df-85a4815a-fd3e-43cd-89a8-5650e3a1443e\" class=\"colab-df-container\">\n",
              "    <div>\n",
              "<style scoped>\n",
              "    .dataframe tbody tr th:only-of-type {\n",
              "        vertical-align: middle;\n",
              "    }\n",
              "\n",
              "    .dataframe tbody tr th {\n",
              "        vertical-align: top;\n",
              "    }\n",
              "\n",
              "    .dataframe thead th {\n",
              "        text-align: right;\n",
              "    }\n",
              "</style>\n",
              "<table border=\"1\" class=\"dataframe\">\n",
              "  <thead>\n",
              "    <tr style=\"text-align: right;\">\n",
              "      <th></th>\n",
              "      <th>rate</th>\n",
              "      <th>label</th>\n",
              "      <th>sentence</th>\n",
              "    </tr>\n",
              "  </thead>\n",
              "  <tbody>\n",
              "    <tr>\n",
              "      <th>17285</th>\n",
              "      <td>4</td>\n",
              "      <td>1</td>\n",
              "      <td>커플로 쓰려고 구매했습니다:) 여자에게는 사이즈가 맞는데 남자한테는 살짝 작네요 음...</td>\n",
              "    </tr>\n",
              "    <tr>\n",
              "      <th>103773</th>\n",
              "      <td>2</td>\n",
              "      <td>-1</td>\n",
              "      <td>물에다았을때 지속력이떨어져요</td>\n",
              "    </tr>\n",
              "    <tr>\n",
              "      <th>13313</th>\n",
              "      <td>2</td>\n",
              "      <td>-1</td>\n",
              "      <td>많이 실망햇어요.. 앞으로 식품은 안시켜먹을듯</td>\n",
              "    </tr>\n",
              "    <tr>\n",
              "      <th>151444</th>\n",
              "      <td>5</td>\n",
              "      <td>1</td>\n",
              "      <td>방수에 쓰기 좋아요</td>\n",
              "    </tr>\n",
              "    <tr>\n",
              "      <th>10193</th>\n",
              "      <td>5</td>\n",
              "      <td>1</td>\n",
              "      <td>여름이라 피부가 많이 타서 기존피어싱이 잘 안어울렸는데 네온컬러 예뻐요!!💚🧡운동때...</td>\n",
              "    </tr>\n",
              "  </tbody>\n",
              "</table>\n",
              "</div>\n",
              "    <div class=\"colab-df-buttons\">\n",
              "\n",
              "  <div class=\"colab-df-container\">\n",
              "    <button class=\"colab-df-convert\" onclick=\"convertToInteractive('df-85a4815a-fd3e-43cd-89a8-5650e3a1443e')\"\n",
              "            title=\"Convert this dataframe to an interactive table.\"\n",
              "            style=\"display:none;\">\n",
              "\n",
              "  <svg xmlns=\"http://www.w3.org/2000/svg\" height=\"24px\" viewBox=\"0 -960 960 960\">\n",
              "    <path d=\"M120-120v-720h720v720H120Zm60-500h600v-160H180v160Zm220 220h160v-160H400v160Zm0 220h160v-160H400v160ZM180-400h160v-160H180v160Zm440 0h160v-160H620v160ZM180-180h160v-160H180v160Zm440 0h160v-160H620v160Z\"/>\n",
              "  </svg>\n",
              "    </button>\n",
              "\n",
              "  <style>\n",
              "    .colab-df-container {\n",
              "      display:flex;\n",
              "      gap: 12px;\n",
              "    }\n",
              "\n",
              "    .colab-df-convert {\n",
              "      background-color: #E8F0FE;\n",
              "      border: none;\n",
              "      border-radius: 50%;\n",
              "      cursor: pointer;\n",
              "      display: none;\n",
              "      fill: #1967D2;\n",
              "      height: 32px;\n",
              "      padding: 0 0 0 0;\n",
              "      width: 32px;\n",
              "    }\n",
              "\n",
              "    .colab-df-convert:hover {\n",
              "      background-color: #E2EBFA;\n",
              "      box-shadow: 0px 1px 2px rgba(60, 64, 67, 0.3), 0px 1px 3px 1px rgba(60, 64, 67, 0.15);\n",
              "      fill: #174EA6;\n",
              "    }\n",
              "\n",
              "    .colab-df-buttons div {\n",
              "      margin-bottom: 4px;\n",
              "    }\n",
              "\n",
              "    [theme=dark] .colab-df-convert {\n",
              "      background-color: #3B4455;\n",
              "      fill: #D2E3FC;\n",
              "    }\n",
              "\n",
              "    [theme=dark] .colab-df-convert:hover {\n",
              "      background-color: #434B5C;\n",
              "      box-shadow: 0px 1px 3px 1px rgba(0, 0, 0, 0.15);\n",
              "      filter: drop-shadow(0px 1px 2px rgba(0, 0, 0, 0.3));\n",
              "      fill: #FFFFFF;\n",
              "    }\n",
              "  </style>\n",
              "\n",
              "    <script>\n",
              "      const buttonEl =\n",
              "        document.querySelector('#df-85a4815a-fd3e-43cd-89a8-5650e3a1443e button.colab-df-convert');\n",
              "      buttonEl.style.display =\n",
              "        google.colab.kernel.accessAllowed ? 'block' : 'none';\n",
              "\n",
              "      async function convertToInteractive(key) {\n",
              "        const element = document.querySelector('#df-85a4815a-fd3e-43cd-89a8-5650e3a1443e');\n",
              "        const dataTable =\n",
              "          await google.colab.kernel.invokeFunction('convertToInteractive',\n",
              "                                                    [key], {});\n",
              "        if (!dataTable) return;\n",
              "\n",
              "        const docLinkHtml = 'Like what you see? Visit the ' +\n",
              "          '<a target=\"_blank\" href=https://colab.research.google.com/notebooks/data_table.ipynb>data table notebook</a>'\n",
              "          + ' to learn more about interactive tables.';\n",
              "        element.innerHTML = '';\n",
              "        dataTable['output_type'] = 'display_data';\n",
              "        await google.colab.output.renderOutput(dataTable, element);\n",
              "        const docLink = document.createElement('div');\n",
              "        docLink.innerHTML = docLinkHtml;\n",
              "        element.appendChild(docLink);\n",
              "      }\n",
              "    </script>\n",
              "  </div>\n",
              "\n",
              "\n",
              "<div id=\"df-872c3341-e7cc-46de-9ba1-5c703a2a2c0c\">\n",
              "  <button class=\"colab-df-quickchart\" onclick=\"quickchart('df-872c3341-e7cc-46de-9ba1-5c703a2a2c0c')\"\n",
              "            title=\"Suggest charts\"\n",
              "            style=\"display:none;\">\n",
              "\n",
              "<svg xmlns=\"http://www.w3.org/2000/svg\" height=\"24px\"viewBox=\"0 0 24 24\"\n",
              "     width=\"24px\">\n",
              "    <g>\n",
              "        <path d=\"M19 3H5c-1.1 0-2 .9-2 2v14c0 1.1.9 2 2 2h14c1.1 0 2-.9 2-2V5c0-1.1-.9-2-2-2zM9 17H7v-7h2v7zm4 0h-2V7h2v10zm4 0h-2v-4h2v4z\"/>\n",
              "    </g>\n",
              "</svg>\n",
              "  </button>\n",
              "\n",
              "<style>\n",
              "  .colab-df-quickchart {\n",
              "      --bg-color: #E8F0FE;\n",
              "      --fill-color: #1967D2;\n",
              "      --hover-bg-color: #E2EBFA;\n",
              "      --hover-fill-color: #174EA6;\n",
              "      --disabled-fill-color: #AAA;\n",
              "      --disabled-bg-color: #DDD;\n",
              "  }\n",
              "\n",
              "  [theme=dark] .colab-df-quickchart {\n",
              "      --bg-color: #3B4455;\n",
              "      --fill-color: #D2E3FC;\n",
              "      --hover-bg-color: #434B5C;\n",
              "      --hover-fill-color: #FFFFFF;\n",
              "      --disabled-bg-color: #3B4455;\n",
              "      --disabled-fill-color: #666;\n",
              "  }\n",
              "\n",
              "  .colab-df-quickchart {\n",
              "    background-color: var(--bg-color);\n",
              "    border: none;\n",
              "    border-radius: 50%;\n",
              "    cursor: pointer;\n",
              "    display: none;\n",
              "    fill: var(--fill-color);\n",
              "    height: 32px;\n",
              "    padding: 0;\n",
              "    width: 32px;\n",
              "  }\n",
              "\n",
              "  .colab-df-quickchart:hover {\n",
              "    background-color: var(--hover-bg-color);\n",
              "    box-shadow: 0 1px 2px rgba(60, 64, 67, 0.3), 0 1px 3px 1px rgba(60, 64, 67, 0.15);\n",
              "    fill: var(--button-hover-fill-color);\n",
              "  }\n",
              "\n",
              "  .colab-df-quickchart-complete:disabled,\n",
              "  .colab-df-quickchart-complete:disabled:hover {\n",
              "    background-color: var(--disabled-bg-color);\n",
              "    fill: var(--disabled-fill-color);\n",
              "    box-shadow: none;\n",
              "  }\n",
              "\n",
              "  .colab-df-spinner {\n",
              "    border: 2px solid var(--fill-color);\n",
              "    border-color: transparent;\n",
              "    border-bottom-color: var(--fill-color);\n",
              "    animation:\n",
              "      spin 1s steps(1) infinite;\n",
              "  }\n",
              "\n",
              "  @keyframes spin {\n",
              "    0% {\n",
              "      border-color: transparent;\n",
              "      border-bottom-color: var(--fill-color);\n",
              "      border-left-color: var(--fill-color);\n",
              "    }\n",
              "    20% {\n",
              "      border-color: transparent;\n",
              "      border-left-color: var(--fill-color);\n",
              "      border-top-color: var(--fill-color);\n",
              "    }\n",
              "    30% {\n",
              "      border-color: transparent;\n",
              "      border-left-color: var(--fill-color);\n",
              "      border-top-color: var(--fill-color);\n",
              "      border-right-color: var(--fill-color);\n",
              "    }\n",
              "    40% {\n",
              "      border-color: transparent;\n",
              "      border-right-color: var(--fill-color);\n",
              "      border-top-color: var(--fill-color);\n",
              "    }\n",
              "    60% {\n",
              "      border-color: transparent;\n",
              "      border-right-color: var(--fill-color);\n",
              "    }\n",
              "    80% {\n",
              "      border-color: transparent;\n",
              "      border-right-color: var(--fill-color);\n",
              "      border-bottom-color: var(--fill-color);\n",
              "    }\n",
              "    90% {\n",
              "      border-color: transparent;\n",
              "      border-bottom-color: var(--fill-color);\n",
              "    }\n",
              "  }\n",
              "</style>\n",
              "\n",
              "  <script>\n",
              "    async function quickchart(key) {\n",
              "      const quickchartButtonEl =\n",
              "        document.querySelector('#' + key + ' button');\n",
              "      quickchartButtonEl.disabled = true;  // To prevent multiple clicks.\n",
              "      quickchartButtonEl.classList.add('colab-df-spinner');\n",
              "      try {\n",
              "        const charts = await google.colab.kernel.invokeFunction(\n",
              "            'suggestCharts', [key], {});\n",
              "      } catch (error) {\n",
              "        console.error('Error during call to suggestCharts:', error);\n",
              "      }\n",
              "      quickchartButtonEl.classList.remove('colab-df-spinner');\n",
              "      quickchartButtonEl.classList.add('colab-df-quickchart-complete');\n",
              "    }\n",
              "    (() => {\n",
              "      let quickchartButtonEl =\n",
              "        document.querySelector('#df-872c3341-e7cc-46de-9ba1-5c703a2a2c0c button');\n",
              "      quickchartButtonEl.style.display =\n",
              "        google.colab.kernel.accessAllowed ? 'block' : 'none';\n",
              "    })();\n",
              "  </script>\n",
              "</div>\n",
              "\n",
              "    </div>\n",
              "  </div>\n"
            ],
            "application/vnd.google.colaboratory.intrinsic+json": {
              "type": "dataframe",
              "variable_name": "df",
              "summary": "{\n  \"name\": \"df\",\n  \"rows\": 100000,\n  \"fields\": [\n    {\n      \"column\": \"rate\",\n      \"properties\": {\n        \"dtype\": \"category\",\n        \"num_unique_values\": 4,\n        \"samples\": [\n          \"2\",\n          \"1\",\n          \"4\"\n        ],\n        \"semantic_type\": \"\",\n        \"description\": \"\"\n      }\n    },\n    {\n      \"column\": \"label\",\n      \"properties\": {\n        \"dtype\": \"number\",\n        \"std\": 1,\n        \"min\": -1,\n        \"max\": 1,\n        \"num_unique_values\": 2,\n        \"samples\": [\n          -1,\n          1\n        ],\n        \"semantic_type\": \"\",\n        \"description\": \"\"\n      }\n    },\n    {\n      \"column\": \"sentence\",\n      \"properties\": {\n        \"dtype\": \"string\",\n        \"num_unique_values\": 99974,\n        \"samples\": [\n          \"\\uc808\\ub300\\uc808\\ub300 \\uc0ac\\uc9c0\\ub9c8\\uc138\\uc694.....\\ud0dd\\ubc30\\ub294 \\ud64d\\ucf69\\uc5d0\\uc11c \\uc654\\ub124\\uc694~ \\ubc18\\ud488\\ub3c4 \\uc5b4\\ub824\\uc6b8\\uac83\\uac19\\uace0 \\uc544\\ubb34\\ub9ac \\uc911\\uad6d \\uc81c\\ud488\\uc774\\uc9c0\\ub9cc \\uc774\\ub807\\uac8c \\ud5c8\\uc811\\ud560 \\uc218 \\uc5c6\\ub124\\uc694.\\ud2b9\\ud788 \\ubaa8\\ud130\\ubd80\\ubd84... \\uc0ac\\uc9c4\\uc744 \\ucc0d\\uae30\\uc704\\ud574 \\ucee4\\ubc84\\ub97c \\ubc97\\uaca8\\ubd24\\uc2b5\\ub2c8\\ub2e4.\\uc0ac\\uc9c4\\uc73c\\ub860 \\uadf8\\ub97c\\ub4ef\\ud574 \\ubcf4\\uc774\\uc9c0\\ub9cc \\uadf8\\ub0e5 20\\ub9cc\\uc6d0 \\ub5a1\\uc0ac\\uba39\\uc5c8\\ub2e4 \\uc0dd\\uac01\\ud560\\ub835\\ub2c8\\ub2e4...\\u3160\\u3160\",\n          \"\\ubc30\\uc1a1\\ubc1b\\uc544\\uc11c \\ub09a\\uc2dc\\uac00\\uc11c \\ubb3c\\uc5b4\\ub4e4\\uc5b4\\uac14\\ub2e4\\ub098\\uc624\\ub2c8...\\ubb3c\\ub4e4\\uc5b4\\uc640\\uc11c \\uc591\\ub9d0\\uc774\\ub791 \\ub2e4 \\uc816\\uc5b4\\uc788\\ub124\\uc694...\\uac80\\uc218\\uc880 \\uc798 \\ud574\\uc11c \\ubcf4\\ub0b4\\uc8fc\\uc2dc\\uae38...\"\n        ],\n        \"semantic_type\": \"\",\n        \"description\": \"\"\n      }\n    }\n  ]\n}"
            }
          },
          "metadata": {},
          "execution_count": 8
        }
      ],
      "source": [
        "df.head()"
      ]
    },
    {
      "cell_type": "markdown",
      "metadata": {
        "id": "SaZ1DdvNkbgt"
      },
      "source": [
        "### STEP 2. 데이터 전처리 (Preprocessing)"
      ]
    },
    {
      "cell_type": "code",
      "execution_count": 9,
      "metadata": {
        "id": "WIySBkPocmLD"
      },
      "outputs": [],
      "source": [
        "review_sentences = df['sentence'].to_list()"
      ]
    },
    {
      "cell_type": "code",
      "execution_count": 10,
      "metadata": {
        "id": "Q7j4w1z-tRuy"
      },
      "outputs": [],
      "source": [
        "import re\n",
        "def preprocess(text):\n",
        "  text = re.sub('[-=+,#/\\?:^$~@*\\\"※~&%ㆍ!』\\\\‘|\\(\\)\\[\\]\\<\\>`\\'…》]','', text)\n",
        "  text = re.sub('[ㅠㅎㅋ]','', text)\n",
        "  return text"
      ]
    },
    {
      "cell_type": "code",
      "execution_count": 11,
      "metadata": {
        "colab": {
          "base_uri": "https://localhost:8080/"
        },
        "id": "4dUBQnv6tg1f",
        "outputId": "07cf4195-47dd-41ea-da72-f2f6f0896bfa"
      },
      "outputs": [
        {
          "output_type": "stream",
          "name": "stderr",
          "text": [
            "100%|██████████| 100000/100000 [00:00<00:00, 218736.10it/s]\n"
          ]
        }
      ],
      "source": [
        "normalize_sentence = []\n",
        "for sentence in tqdm(review_sentences):\n",
        "  sentence = preprocess(sentence)\n",
        "  normalize_sentence.append(sentence)\n",
        "\n",
        "df['normalize_sentence'] = normalize_sentence"
      ]
    },
    {
      "cell_type": "code",
      "execution_count": 12,
      "metadata": {
        "colab": {
          "base_uri": "https://localhost:8080/",
          "height": 424
        },
        "id": "cqJg23mzudmp",
        "outputId": "3443a081-322a-4677-ebf9-5376a4e394a7"
      },
      "outputs": [
        {
          "output_type": "execute_result",
          "data": {
            "text/plain": [
              "       rate  label                                           sentence  \\\n",
              "17285     4      1  커플로 쓰려고 구매했습니다:) 여자에게는 사이즈가 맞는데 남자한테는 살짝 작네요 음...   \n",
              "103773    2     -1                                    물에다았을때 지속력이떨어져요   \n",
              "13313     2     -1                          많이 실망햇어요.. 앞으로 식품은 안시켜먹을듯   \n",
              "151444    5      1                                         방수에 쓰기 좋아요   \n",
              "10193     5      1  여름이라 피부가 많이 타서 기존피어싱이 잘 안어울렸는데 네온컬러 예뻐요!!💚🧡운동때...   \n",
              "...     ...    ...                                                ...   \n",
              "85134     2     -1                            겉은멀쩡한데 속은 상한게 많아요 실망입니다   \n",
              "185929    2     -1                 냄새가 너무 많이나고 접시가 자꾸 달라붙어서 덜 실용적이네요.   \n",
              "187481    4      1                      잘 먹고 있습니다. 효과라기 보다는 필수로 .....   \n",
              "136365    2     -1  음... 호환은 되는데 꼭지가 입구부분이ㅡ좀 나팔처럼 생기고 우선 애기가 먹다가 입...   \n",
              "62880     5      1  배송도 빠르게 오고 배송기사님이 친절하게 설치까지 해주셨습니다. 매우 튼튼해보이고 ...   \n",
              "\n",
              "                                       normalize_sentence  \n",
              "17285   커플로 쓰려고 구매했습니다 여자에게는 사이즈가 맞는데 남자한테는 살짝 작네요 음.....  \n",
              "103773                                    물에다았을때 지속력이떨어져요  \n",
              "13313                           많이 실망햇어요.. 앞으로 식품은 안시켜먹을듯  \n",
              "151444                                         방수에 쓰기 좋아요  \n",
              "10193   여름이라 피부가 많이 타서 기존피어싱이 잘 안어울렸는데 네온컬러 예뻐요💚🧡운동때문에...  \n",
              "...                                                   ...  \n",
              "85134                             겉은멀쩡한데 속은 상한게 많아요 실망입니다  \n",
              "185929                 냄새가 너무 많이나고 접시가 자꾸 달라붙어서 덜 실용적이네요.  \n",
              "187481                      잘 먹고 있습니다. 효과라기 보다는 필수로 .....  \n",
              "136365  음... 호환은 되는데 꼭지가 입구부분이ㅡ좀 나팔처럼 생기고 우선 애기가 먹다가 입...  \n",
              "62880   배송도 빠르게 오고 배송기사님이 친절하게 설치까지 해주셨습니다. 매우 튼튼해보이고 ...  \n",
              "\n",
              "[100000 rows x 4 columns]"
            ],
            "text/html": [
              "\n",
              "  <div id=\"df-5cf842cc-2f6f-49e4-8cb5-15fee3584b15\" class=\"colab-df-container\">\n",
              "    <div>\n",
              "<style scoped>\n",
              "    .dataframe tbody tr th:only-of-type {\n",
              "        vertical-align: middle;\n",
              "    }\n",
              "\n",
              "    .dataframe tbody tr th {\n",
              "        vertical-align: top;\n",
              "    }\n",
              "\n",
              "    .dataframe thead th {\n",
              "        text-align: right;\n",
              "    }\n",
              "</style>\n",
              "<table border=\"1\" class=\"dataframe\">\n",
              "  <thead>\n",
              "    <tr style=\"text-align: right;\">\n",
              "      <th></th>\n",
              "      <th>rate</th>\n",
              "      <th>label</th>\n",
              "      <th>sentence</th>\n",
              "      <th>normalize_sentence</th>\n",
              "    </tr>\n",
              "  </thead>\n",
              "  <tbody>\n",
              "    <tr>\n",
              "      <th>17285</th>\n",
              "      <td>4</td>\n",
              "      <td>1</td>\n",
              "      <td>커플로 쓰려고 구매했습니다:) 여자에게는 사이즈가 맞는데 남자한테는 살짝 작네요 음...</td>\n",
              "      <td>커플로 쓰려고 구매했습니다 여자에게는 사이즈가 맞는데 남자한테는 살짝 작네요 음.....</td>\n",
              "    </tr>\n",
              "    <tr>\n",
              "      <th>103773</th>\n",
              "      <td>2</td>\n",
              "      <td>-1</td>\n",
              "      <td>물에다았을때 지속력이떨어져요</td>\n",
              "      <td>물에다았을때 지속력이떨어져요</td>\n",
              "    </tr>\n",
              "    <tr>\n",
              "      <th>13313</th>\n",
              "      <td>2</td>\n",
              "      <td>-1</td>\n",
              "      <td>많이 실망햇어요.. 앞으로 식품은 안시켜먹을듯</td>\n",
              "      <td>많이 실망햇어요.. 앞으로 식품은 안시켜먹을듯</td>\n",
              "    </tr>\n",
              "    <tr>\n",
              "      <th>151444</th>\n",
              "      <td>5</td>\n",
              "      <td>1</td>\n",
              "      <td>방수에 쓰기 좋아요</td>\n",
              "      <td>방수에 쓰기 좋아요</td>\n",
              "    </tr>\n",
              "    <tr>\n",
              "      <th>10193</th>\n",
              "      <td>5</td>\n",
              "      <td>1</td>\n",
              "      <td>여름이라 피부가 많이 타서 기존피어싱이 잘 안어울렸는데 네온컬러 예뻐요!!💚🧡운동때...</td>\n",
              "      <td>여름이라 피부가 많이 타서 기존피어싱이 잘 안어울렸는데 네온컬러 예뻐요💚🧡운동때문에...</td>\n",
              "    </tr>\n",
              "    <tr>\n",
              "      <th>...</th>\n",
              "      <td>...</td>\n",
              "      <td>...</td>\n",
              "      <td>...</td>\n",
              "      <td>...</td>\n",
              "    </tr>\n",
              "    <tr>\n",
              "      <th>85134</th>\n",
              "      <td>2</td>\n",
              "      <td>-1</td>\n",
              "      <td>겉은멀쩡한데 속은 상한게 많아요 실망입니다</td>\n",
              "      <td>겉은멀쩡한데 속은 상한게 많아요 실망입니다</td>\n",
              "    </tr>\n",
              "    <tr>\n",
              "      <th>185929</th>\n",
              "      <td>2</td>\n",
              "      <td>-1</td>\n",
              "      <td>냄새가 너무 많이나고 접시가 자꾸 달라붙어서 덜 실용적이네요.</td>\n",
              "      <td>냄새가 너무 많이나고 접시가 자꾸 달라붙어서 덜 실용적이네요.</td>\n",
              "    </tr>\n",
              "    <tr>\n",
              "      <th>187481</th>\n",
              "      <td>4</td>\n",
              "      <td>1</td>\n",
              "      <td>잘 먹고 있습니다. 효과라기 보다는 필수로 .....</td>\n",
              "      <td>잘 먹고 있습니다. 효과라기 보다는 필수로 .....</td>\n",
              "    </tr>\n",
              "    <tr>\n",
              "      <th>136365</th>\n",
              "      <td>2</td>\n",
              "      <td>-1</td>\n",
              "      <td>음... 호환은 되는데 꼭지가 입구부분이ㅡ좀 나팔처럼 생기고 우선 애기가 먹다가 입...</td>\n",
              "      <td>음... 호환은 되는데 꼭지가 입구부분이ㅡ좀 나팔처럼 생기고 우선 애기가 먹다가 입...</td>\n",
              "    </tr>\n",
              "    <tr>\n",
              "      <th>62880</th>\n",
              "      <td>5</td>\n",
              "      <td>1</td>\n",
              "      <td>배송도 빠르게 오고 배송기사님이 친절하게 설치까지 해주셨습니다. 매우 튼튼해보이고 ...</td>\n",
              "      <td>배송도 빠르게 오고 배송기사님이 친절하게 설치까지 해주셨습니다. 매우 튼튼해보이고 ...</td>\n",
              "    </tr>\n",
              "  </tbody>\n",
              "</table>\n",
              "<p>100000 rows × 4 columns</p>\n",
              "</div>\n",
              "    <div class=\"colab-df-buttons\">\n",
              "\n",
              "  <div class=\"colab-df-container\">\n",
              "    <button class=\"colab-df-convert\" onclick=\"convertToInteractive('df-5cf842cc-2f6f-49e4-8cb5-15fee3584b15')\"\n",
              "            title=\"Convert this dataframe to an interactive table.\"\n",
              "            style=\"display:none;\">\n",
              "\n",
              "  <svg xmlns=\"http://www.w3.org/2000/svg\" height=\"24px\" viewBox=\"0 -960 960 960\">\n",
              "    <path d=\"M120-120v-720h720v720H120Zm60-500h600v-160H180v160Zm220 220h160v-160H400v160Zm0 220h160v-160H400v160ZM180-400h160v-160H180v160Zm440 0h160v-160H620v160ZM180-180h160v-160H180v160Zm440 0h160v-160H620v160Z\"/>\n",
              "  </svg>\n",
              "    </button>\n",
              "\n",
              "  <style>\n",
              "    .colab-df-container {\n",
              "      display:flex;\n",
              "      gap: 12px;\n",
              "    }\n",
              "\n",
              "    .colab-df-convert {\n",
              "      background-color: #E8F0FE;\n",
              "      border: none;\n",
              "      border-radius: 50%;\n",
              "      cursor: pointer;\n",
              "      display: none;\n",
              "      fill: #1967D2;\n",
              "      height: 32px;\n",
              "      padding: 0 0 0 0;\n",
              "      width: 32px;\n",
              "    }\n",
              "\n",
              "    .colab-df-convert:hover {\n",
              "      background-color: #E2EBFA;\n",
              "      box-shadow: 0px 1px 2px rgba(60, 64, 67, 0.3), 0px 1px 3px 1px rgba(60, 64, 67, 0.15);\n",
              "      fill: #174EA6;\n",
              "    }\n",
              "\n",
              "    .colab-df-buttons div {\n",
              "      margin-bottom: 4px;\n",
              "    }\n",
              "\n",
              "    [theme=dark] .colab-df-convert {\n",
              "      background-color: #3B4455;\n",
              "      fill: #D2E3FC;\n",
              "    }\n",
              "\n",
              "    [theme=dark] .colab-df-convert:hover {\n",
              "      background-color: #434B5C;\n",
              "      box-shadow: 0px 1px 3px 1px rgba(0, 0, 0, 0.15);\n",
              "      filter: drop-shadow(0px 1px 2px rgba(0, 0, 0, 0.3));\n",
              "      fill: #FFFFFF;\n",
              "    }\n",
              "  </style>\n",
              "\n",
              "    <script>\n",
              "      const buttonEl =\n",
              "        document.querySelector('#df-5cf842cc-2f6f-49e4-8cb5-15fee3584b15 button.colab-df-convert');\n",
              "      buttonEl.style.display =\n",
              "        google.colab.kernel.accessAllowed ? 'block' : 'none';\n",
              "\n",
              "      async function convertToInteractive(key) {\n",
              "        const element = document.querySelector('#df-5cf842cc-2f6f-49e4-8cb5-15fee3584b15');\n",
              "        const dataTable =\n",
              "          await google.colab.kernel.invokeFunction('convertToInteractive',\n",
              "                                                    [key], {});\n",
              "        if (!dataTable) return;\n",
              "\n",
              "        const docLinkHtml = 'Like what you see? Visit the ' +\n",
              "          '<a target=\"_blank\" href=https://colab.research.google.com/notebooks/data_table.ipynb>data table notebook</a>'\n",
              "          + ' to learn more about interactive tables.';\n",
              "        element.innerHTML = '';\n",
              "        dataTable['output_type'] = 'display_data';\n",
              "        await google.colab.output.renderOutput(dataTable, element);\n",
              "        const docLink = document.createElement('div');\n",
              "        docLink.innerHTML = docLinkHtml;\n",
              "        element.appendChild(docLink);\n",
              "      }\n",
              "    </script>\n",
              "  </div>\n",
              "\n",
              "\n",
              "<div id=\"df-98fe0f7d-ea60-4472-bdbf-8e01c6fcd3aa\">\n",
              "  <button class=\"colab-df-quickchart\" onclick=\"quickchart('df-98fe0f7d-ea60-4472-bdbf-8e01c6fcd3aa')\"\n",
              "            title=\"Suggest charts\"\n",
              "            style=\"display:none;\">\n",
              "\n",
              "<svg xmlns=\"http://www.w3.org/2000/svg\" height=\"24px\"viewBox=\"0 0 24 24\"\n",
              "     width=\"24px\">\n",
              "    <g>\n",
              "        <path d=\"M19 3H5c-1.1 0-2 .9-2 2v14c0 1.1.9 2 2 2h14c1.1 0 2-.9 2-2V5c0-1.1-.9-2-2-2zM9 17H7v-7h2v7zm4 0h-2V7h2v10zm4 0h-2v-4h2v4z\"/>\n",
              "    </g>\n",
              "</svg>\n",
              "  </button>\n",
              "\n",
              "<style>\n",
              "  .colab-df-quickchart {\n",
              "      --bg-color: #E8F0FE;\n",
              "      --fill-color: #1967D2;\n",
              "      --hover-bg-color: #E2EBFA;\n",
              "      --hover-fill-color: #174EA6;\n",
              "      --disabled-fill-color: #AAA;\n",
              "      --disabled-bg-color: #DDD;\n",
              "  }\n",
              "\n",
              "  [theme=dark] .colab-df-quickchart {\n",
              "      --bg-color: #3B4455;\n",
              "      --fill-color: #D2E3FC;\n",
              "      --hover-bg-color: #434B5C;\n",
              "      --hover-fill-color: #FFFFFF;\n",
              "      --disabled-bg-color: #3B4455;\n",
              "      --disabled-fill-color: #666;\n",
              "  }\n",
              "\n",
              "  .colab-df-quickchart {\n",
              "    background-color: var(--bg-color);\n",
              "    border: none;\n",
              "    border-radius: 50%;\n",
              "    cursor: pointer;\n",
              "    display: none;\n",
              "    fill: var(--fill-color);\n",
              "    height: 32px;\n",
              "    padding: 0;\n",
              "    width: 32px;\n",
              "  }\n",
              "\n",
              "  .colab-df-quickchart:hover {\n",
              "    background-color: var(--hover-bg-color);\n",
              "    box-shadow: 0 1px 2px rgba(60, 64, 67, 0.3), 0 1px 3px 1px rgba(60, 64, 67, 0.15);\n",
              "    fill: var(--button-hover-fill-color);\n",
              "  }\n",
              "\n",
              "  .colab-df-quickchart-complete:disabled,\n",
              "  .colab-df-quickchart-complete:disabled:hover {\n",
              "    background-color: var(--disabled-bg-color);\n",
              "    fill: var(--disabled-fill-color);\n",
              "    box-shadow: none;\n",
              "  }\n",
              "\n",
              "  .colab-df-spinner {\n",
              "    border: 2px solid var(--fill-color);\n",
              "    border-color: transparent;\n",
              "    border-bottom-color: var(--fill-color);\n",
              "    animation:\n",
              "      spin 1s steps(1) infinite;\n",
              "  }\n",
              "\n",
              "  @keyframes spin {\n",
              "    0% {\n",
              "      border-color: transparent;\n",
              "      border-bottom-color: var(--fill-color);\n",
              "      border-left-color: var(--fill-color);\n",
              "    }\n",
              "    20% {\n",
              "      border-color: transparent;\n",
              "      border-left-color: var(--fill-color);\n",
              "      border-top-color: var(--fill-color);\n",
              "    }\n",
              "    30% {\n",
              "      border-color: transparent;\n",
              "      border-left-color: var(--fill-color);\n",
              "      border-top-color: var(--fill-color);\n",
              "      border-right-color: var(--fill-color);\n",
              "    }\n",
              "    40% {\n",
              "      border-color: transparent;\n",
              "      border-right-color: var(--fill-color);\n",
              "      border-top-color: var(--fill-color);\n",
              "    }\n",
              "    60% {\n",
              "      border-color: transparent;\n",
              "      border-right-color: var(--fill-color);\n",
              "    }\n",
              "    80% {\n",
              "      border-color: transparent;\n",
              "      border-right-color: var(--fill-color);\n",
              "      border-bottom-color: var(--fill-color);\n",
              "    }\n",
              "    90% {\n",
              "      border-color: transparent;\n",
              "      border-bottom-color: var(--fill-color);\n",
              "    }\n",
              "  }\n",
              "</style>\n",
              "\n",
              "  <script>\n",
              "    async function quickchart(key) {\n",
              "      const quickchartButtonEl =\n",
              "        document.querySelector('#' + key + ' button');\n",
              "      quickchartButtonEl.disabled = true;  // To prevent multiple clicks.\n",
              "      quickchartButtonEl.classList.add('colab-df-spinner');\n",
              "      try {\n",
              "        const charts = await google.colab.kernel.invokeFunction(\n",
              "            'suggestCharts', [key], {});\n",
              "      } catch (error) {\n",
              "        console.error('Error during call to suggestCharts:', error);\n",
              "      }\n",
              "      quickchartButtonEl.classList.remove('colab-df-spinner');\n",
              "      quickchartButtonEl.classList.add('colab-df-quickchart-complete');\n",
              "    }\n",
              "    (() => {\n",
              "      let quickchartButtonEl =\n",
              "        document.querySelector('#df-98fe0f7d-ea60-4472-bdbf-8e01c6fcd3aa button');\n",
              "      quickchartButtonEl.style.display =\n",
              "        google.colab.kernel.accessAllowed ? 'block' : 'none';\n",
              "    })();\n",
              "  </script>\n",
              "</div>\n",
              "\n",
              "  <div id=\"id_64773cda-d09e-4bdd-b311-db265a364817\">\n",
              "    <style>\n",
              "      .colab-df-generate {\n",
              "        background-color: #E8F0FE;\n",
              "        border: none;\n",
              "        border-radius: 50%;\n",
              "        cursor: pointer;\n",
              "        display: none;\n",
              "        fill: #1967D2;\n",
              "        height: 32px;\n",
              "        padding: 0 0 0 0;\n",
              "        width: 32px;\n",
              "      }\n",
              "\n",
              "      .colab-df-generate:hover {\n",
              "        background-color: #E2EBFA;\n",
              "        box-shadow: 0px 1px 2px rgba(60, 64, 67, 0.3), 0px 1px 3px 1px rgba(60, 64, 67, 0.15);\n",
              "        fill: #174EA6;\n",
              "      }\n",
              "\n",
              "      [theme=dark] .colab-df-generate {\n",
              "        background-color: #3B4455;\n",
              "        fill: #D2E3FC;\n",
              "      }\n",
              "\n",
              "      [theme=dark] .colab-df-generate:hover {\n",
              "        background-color: #434B5C;\n",
              "        box-shadow: 0px 1px 3px 1px rgba(0, 0, 0, 0.15);\n",
              "        filter: drop-shadow(0px 1px 2px rgba(0, 0, 0, 0.3));\n",
              "        fill: #FFFFFF;\n",
              "      }\n",
              "    </style>\n",
              "    <button class=\"colab-df-generate\" onclick=\"generateWithVariable('df')\"\n",
              "            title=\"Generate code using this dataframe.\"\n",
              "            style=\"display:none;\">\n",
              "\n",
              "  <svg xmlns=\"http://www.w3.org/2000/svg\" height=\"24px\"viewBox=\"0 0 24 24\"\n",
              "       width=\"24px\">\n",
              "    <path d=\"M7,19H8.4L18.45,9,17,7.55,7,17.6ZM5,21V16.75L18.45,3.32a2,2,0,0,1,2.83,0l1.4,1.43a1.91,1.91,0,0,1,.58,1.4,1.91,1.91,0,0,1-.58,1.4L9.25,21ZM18.45,9,17,7.55Zm-12,3A5.31,5.31,0,0,0,4.9,8.1,5.31,5.31,0,0,0,1,6.5,5.31,5.31,0,0,0,4.9,4.9,5.31,5.31,0,0,0,6.5,1,5.31,5.31,0,0,0,8.1,4.9,5.31,5.31,0,0,0,12,6.5,5.46,5.46,0,0,0,6.5,12Z\"/>\n",
              "  </svg>\n",
              "    </button>\n",
              "    <script>\n",
              "      (() => {\n",
              "      const buttonEl =\n",
              "        document.querySelector('#id_64773cda-d09e-4bdd-b311-db265a364817 button.colab-df-generate');\n",
              "      buttonEl.style.display =\n",
              "        google.colab.kernel.accessAllowed ? 'block' : 'none';\n",
              "\n",
              "      buttonEl.onclick = () => {\n",
              "        google.colab.notebook.generateWithVariable('df');\n",
              "      }\n",
              "      })();\n",
              "    </script>\n",
              "  </div>\n",
              "\n",
              "    </div>\n",
              "  </div>\n"
            ],
            "application/vnd.google.colaboratory.intrinsic+json": {
              "type": "dataframe",
              "variable_name": "df",
              "summary": "{\n  \"name\": \"df\",\n  \"rows\": 100000,\n  \"fields\": [\n    {\n      \"column\": \"rate\",\n      \"properties\": {\n        \"dtype\": \"category\",\n        \"num_unique_values\": 4,\n        \"samples\": [\n          \"2\",\n          \"1\",\n          \"4\"\n        ],\n        \"semantic_type\": \"\",\n        \"description\": \"\"\n      }\n    },\n    {\n      \"column\": \"label\",\n      \"properties\": {\n        \"dtype\": \"number\",\n        \"std\": 1,\n        \"min\": -1,\n        \"max\": 1,\n        \"num_unique_values\": 2,\n        \"samples\": [\n          -1,\n          1\n        ],\n        \"semantic_type\": \"\",\n        \"description\": \"\"\n      }\n    },\n    {\n      \"column\": \"sentence\",\n      \"properties\": {\n        \"dtype\": \"string\",\n        \"num_unique_values\": 99974,\n        \"samples\": [\n          \"\\uc808\\ub300\\uc808\\ub300 \\uc0ac\\uc9c0\\ub9c8\\uc138\\uc694.....\\ud0dd\\ubc30\\ub294 \\ud64d\\ucf69\\uc5d0\\uc11c \\uc654\\ub124\\uc694~ \\ubc18\\ud488\\ub3c4 \\uc5b4\\ub824\\uc6b8\\uac83\\uac19\\uace0 \\uc544\\ubb34\\ub9ac \\uc911\\uad6d \\uc81c\\ud488\\uc774\\uc9c0\\ub9cc \\uc774\\ub807\\uac8c \\ud5c8\\uc811\\ud560 \\uc218 \\uc5c6\\ub124\\uc694.\\ud2b9\\ud788 \\ubaa8\\ud130\\ubd80\\ubd84... \\uc0ac\\uc9c4\\uc744 \\ucc0d\\uae30\\uc704\\ud574 \\ucee4\\ubc84\\ub97c \\ubc97\\uaca8\\ubd24\\uc2b5\\ub2c8\\ub2e4.\\uc0ac\\uc9c4\\uc73c\\ub860 \\uadf8\\ub97c\\ub4ef\\ud574 \\ubcf4\\uc774\\uc9c0\\ub9cc \\uadf8\\ub0e5 20\\ub9cc\\uc6d0 \\ub5a1\\uc0ac\\uba39\\uc5c8\\ub2e4 \\uc0dd\\uac01\\ud560\\ub835\\ub2c8\\ub2e4...\\u3160\\u3160\",\n          \"\\ubc30\\uc1a1\\ubc1b\\uc544\\uc11c \\ub09a\\uc2dc\\uac00\\uc11c \\ubb3c\\uc5b4\\ub4e4\\uc5b4\\uac14\\ub2e4\\ub098\\uc624\\ub2c8...\\ubb3c\\ub4e4\\uc5b4\\uc640\\uc11c \\uc591\\ub9d0\\uc774\\ub791 \\ub2e4 \\uc816\\uc5b4\\uc788\\ub124\\uc694...\\uac80\\uc218\\uc880 \\uc798 \\ud574\\uc11c \\ubcf4\\ub0b4\\uc8fc\\uc2dc\\uae38...\"\n        ],\n        \"semantic_type\": \"\",\n        \"description\": \"\"\n      }\n    },\n    {\n      \"column\": \"normalize_sentence\",\n      \"properties\": {\n        \"dtype\": \"string\",\n        \"num_unique_values\": 99909,\n        \"samples\": [\n          \"\\uad11\\uace0\\ubcf4\\uace0 \\uc0c0\\ub294\\ub370 \\ub4dc\\ub77c\\ub9c8\\ud2f1\\ud55c \\ud6a8\\uacfc\\uc5c6\\uace0 \\ud2f0\\ub3c4\\ub9ce\\ub098\\uc694\",\n          \"\\uc774\\uac74 \\ubb3c\\uac74\\uc88b\\uc2b5\\ub2c8\\ub2e4 \\ub2e8 \\uc880 \\uc587\\uc740\\ub4ef\\ud558\\ub124\\uc694\"\n        ],\n        \"semantic_type\": \"\",\n        \"description\": \"\"\n      }\n    }\n  ]\n}"
            }
          },
          "metadata": {},
          "execution_count": 12
        }
      ],
      "source": [
        "df"
      ]
    },
    {
      "cell_type": "markdown",
      "metadata": {
        "id": "zjw-KFL0k5A1"
      },
      "source": [
        "### STEP 3. 토큰화 진행 (Tokenization)"
      ]
    },
    {
      "cell_type": "code",
      "execution_count": 13,
      "metadata": {
        "colab": {
          "base_uri": "https://localhost:8080/"
        },
        "id": "H0HsdLQbtVo2",
        "outputId": "79f17ffd-a582-48b0-d6c7-13fde5abfa2d"
      },
      "outputs": [
        {
          "output_type": "execute_result",
          "data": {
            "text/plain": [
              "['커플',\n",
              " '로',\n",
              " '쓰려고',\n",
              " '구매',\n",
              " '했습니다',\n",
              " '여자',\n",
              " '에게는',\n",
              " '사이즈',\n",
              " '가',\n",
              " '맞는데',\n",
              " '남자',\n",
              " '한테',\n",
              " '는',\n",
              " '살짝',\n",
              " '작네요',\n",
              " '음',\n",
              " '..',\n",
              " '상품',\n",
              " '문제',\n",
              " '는',\n",
              " '아닌',\n",
              " '것',\n",
              " '같지만',\n",
              " '후기',\n",
              " '를',\n",
              " '솔직히',\n",
              " '남겨',\n",
              " '봅니다',\n",
              " '..']"
            ]
          },
          "metadata": {},
          "execution_count": 13
        }
      ],
      "source": [
        "# Okt(Open Korea Text)\n",
        "from konlpy.tag import Okt\n",
        "okt=Okt()\n",
        "\n",
        "okt.morphs(normalize_sentence[0])"
      ]
    },
    {
      "cell_type": "code",
      "execution_count": 14,
      "metadata": {
        "colab": {
          "base_uri": "https://localhost:8080/"
        },
        "id": "FJ55fpYTvT0h",
        "outputId": "66faa9d1-f807-4767-bb1b-384b7b5d2fa4"
      },
      "outputs": [
        {
          "output_type": "stream",
          "name": "stderr",
          "text": [
            "100%|██████████| 100000/100000 [05:29<00:00, 303.82it/s]\n"
          ]
        }
      ],
      "source": [
        "tokenized_sentence = []\n",
        "for sent in tqdm(normalize_sentence):\n",
        "  sent = okt.morphs(sent)\n",
        "  tokenized_sentence.append(sent)"
      ]
    },
    {
      "cell_type": "code",
      "execution_count": 15,
      "metadata": {
        "id": "XhUniskUrysU"
      },
      "outputs": [],
      "source": [
        "df['tokenized_sentence'] = tokenized_sentence"
      ]
    },
    {
      "cell_type": "code",
      "execution_count": 16,
      "metadata": {
        "colab": {
          "base_uri": "https://localhost:8080/",
          "height": 258
        },
        "id": "4B6UctBotVo2",
        "outputId": "535a5617-ed78-4d26-8788-61226e97e8c3"
      },
      "outputs": [
        {
          "output_type": "execute_result",
          "data": {
            "text/plain": [
              "       rate  label                                           sentence  \\\n",
              "17285     4      1  커플로 쓰려고 구매했습니다:) 여자에게는 사이즈가 맞는데 남자한테는 살짝 작네요 음...   \n",
              "103773    2     -1                                    물에다았을때 지속력이떨어져요   \n",
              "13313     2     -1                          많이 실망햇어요.. 앞으로 식품은 안시켜먹을듯   \n",
              "151444    5      1                                         방수에 쓰기 좋아요   \n",
              "10193     5      1  여름이라 피부가 많이 타서 기존피어싱이 잘 안어울렸는데 네온컬러 예뻐요!!💚🧡운동때...   \n",
              "\n",
              "                                       normalize_sentence  \\\n",
              "17285   커플로 쓰려고 구매했습니다 여자에게는 사이즈가 맞는데 남자한테는 살짝 작네요 음.....   \n",
              "103773                                    물에다았을때 지속력이떨어져요   \n",
              "13313                           많이 실망햇어요.. 앞으로 식품은 안시켜먹을듯   \n",
              "151444                                         방수에 쓰기 좋아요   \n",
              "10193   여름이라 피부가 많이 타서 기존피어싱이 잘 안어울렸는데 네온컬러 예뻐요💚🧡운동때문에...   \n",
              "\n",
              "                                       tokenized_sentence  \n",
              "17285   [커플, 로, 쓰려고, 구매, 했습니다, 여자, 에게는, 사이즈, 가, 맞는데, 남...  \n",
              "103773                   [물, 에다, 았, 을, 때, 지속, 력, 이, 떨어져요]  \n",
              "13313     [많이, 실망, 햇, 어, 요, .., 앞, 으로, 식품, 은, 안, 시켜, 먹을듯]  \n",
              "151444                                   [방수, 에, 쓰기, 좋아요]  \n",
              "10193   [여름, 이라, 피부, 가, 많이, 타서, 기존, 피어싱, 이, 잘, 안, 어울렸는...  "
            ],
            "text/html": [
              "\n",
              "  <div id=\"df-6363df42-bb17-440c-838b-a7158aae0710\" class=\"colab-df-container\">\n",
              "    <div>\n",
              "<style scoped>\n",
              "    .dataframe tbody tr th:only-of-type {\n",
              "        vertical-align: middle;\n",
              "    }\n",
              "\n",
              "    .dataframe tbody tr th {\n",
              "        vertical-align: top;\n",
              "    }\n",
              "\n",
              "    .dataframe thead th {\n",
              "        text-align: right;\n",
              "    }\n",
              "</style>\n",
              "<table border=\"1\" class=\"dataframe\">\n",
              "  <thead>\n",
              "    <tr style=\"text-align: right;\">\n",
              "      <th></th>\n",
              "      <th>rate</th>\n",
              "      <th>label</th>\n",
              "      <th>sentence</th>\n",
              "      <th>normalize_sentence</th>\n",
              "      <th>tokenized_sentence</th>\n",
              "    </tr>\n",
              "  </thead>\n",
              "  <tbody>\n",
              "    <tr>\n",
              "      <th>17285</th>\n",
              "      <td>4</td>\n",
              "      <td>1</td>\n",
              "      <td>커플로 쓰려고 구매했습니다:) 여자에게는 사이즈가 맞는데 남자한테는 살짝 작네요 음...</td>\n",
              "      <td>커플로 쓰려고 구매했습니다 여자에게는 사이즈가 맞는데 남자한테는 살짝 작네요 음.....</td>\n",
              "      <td>[커플, 로, 쓰려고, 구매, 했습니다, 여자, 에게는, 사이즈, 가, 맞는데, 남...</td>\n",
              "    </tr>\n",
              "    <tr>\n",
              "      <th>103773</th>\n",
              "      <td>2</td>\n",
              "      <td>-1</td>\n",
              "      <td>물에다았을때 지속력이떨어져요</td>\n",
              "      <td>물에다았을때 지속력이떨어져요</td>\n",
              "      <td>[물, 에다, 았, 을, 때, 지속, 력, 이, 떨어져요]</td>\n",
              "    </tr>\n",
              "    <tr>\n",
              "      <th>13313</th>\n",
              "      <td>2</td>\n",
              "      <td>-1</td>\n",
              "      <td>많이 실망햇어요.. 앞으로 식품은 안시켜먹을듯</td>\n",
              "      <td>많이 실망햇어요.. 앞으로 식품은 안시켜먹을듯</td>\n",
              "      <td>[많이, 실망, 햇, 어, 요, .., 앞, 으로, 식품, 은, 안, 시켜, 먹을듯]</td>\n",
              "    </tr>\n",
              "    <tr>\n",
              "      <th>151444</th>\n",
              "      <td>5</td>\n",
              "      <td>1</td>\n",
              "      <td>방수에 쓰기 좋아요</td>\n",
              "      <td>방수에 쓰기 좋아요</td>\n",
              "      <td>[방수, 에, 쓰기, 좋아요]</td>\n",
              "    </tr>\n",
              "    <tr>\n",
              "      <th>10193</th>\n",
              "      <td>5</td>\n",
              "      <td>1</td>\n",
              "      <td>여름이라 피부가 많이 타서 기존피어싱이 잘 안어울렸는데 네온컬러 예뻐요!!💚🧡운동때...</td>\n",
              "      <td>여름이라 피부가 많이 타서 기존피어싱이 잘 안어울렸는데 네온컬러 예뻐요💚🧡운동때문에...</td>\n",
              "      <td>[여름, 이라, 피부, 가, 많이, 타서, 기존, 피어싱, 이, 잘, 안, 어울렸는...</td>\n",
              "    </tr>\n",
              "  </tbody>\n",
              "</table>\n",
              "</div>\n",
              "    <div class=\"colab-df-buttons\">\n",
              "\n",
              "  <div class=\"colab-df-container\">\n",
              "    <button class=\"colab-df-convert\" onclick=\"convertToInteractive('df-6363df42-bb17-440c-838b-a7158aae0710')\"\n",
              "            title=\"Convert this dataframe to an interactive table.\"\n",
              "            style=\"display:none;\">\n",
              "\n",
              "  <svg xmlns=\"http://www.w3.org/2000/svg\" height=\"24px\" viewBox=\"0 -960 960 960\">\n",
              "    <path d=\"M120-120v-720h720v720H120Zm60-500h600v-160H180v160Zm220 220h160v-160H400v160Zm0 220h160v-160H400v160ZM180-400h160v-160H180v160Zm440 0h160v-160H620v160ZM180-180h160v-160H180v160Zm440 0h160v-160H620v160Z\"/>\n",
              "  </svg>\n",
              "    </button>\n",
              "\n",
              "  <style>\n",
              "    .colab-df-container {\n",
              "      display:flex;\n",
              "      gap: 12px;\n",
              "    }\n",
              "\n",
              "    .colab-df-convert {\n",
              "      background-color: #E8F0FE;\n",
              "      border: none;\n",
              "      border-radius: 50%;\n",
              "      cursor: pointer;\n",
              "      display: none;\n",
              "      fill: #1967D2;\n",
              "      height: 32px;\n",
              "      padding: 0 0 0 0;\n",
              "      width: 32px;\n",
              "    }\n",
              "\n",
              "    .colab-df-convert:hover {\n",
              "      background-color: #E2EBFA;\n",
              "      box-shadow: 0px 1px 2px rgba(60, 64, 67, 0.3), 0px 1px 3px 1px rgba(60, 64, 67, 0.15);\n",
              "      fill: #174EA6;\n",
              "    }\n",
              "\n",
              "    .colab-df-buttons div {\n",
              "      margin-bottom: 4px;\n",
              "    }\n",
              "\n",
              "    [theme=dark] .colab-df-convert {\n",
              "      background-color: #3B4455;\n",
              "      fill: #D2E3FC;\n",
              "    }\n",
              "\n",
              "    [theme=dark] .colab-df-convert:hover {\n",
              "      background-color: #434B5C;\n",
              "      box-shadow: 0px 1px 3px 1px rgba(0, 0, 0, 0.15);\n",
              "      filter: drop-shadow(0px 1px 2px rgba(0, 0, 0, 0.3));\n",
              "      fill: #FFFFFF;\n",
              "    }\n",
              "  </style>\n",
              "\n",
              "    <script>\n",
              "      const buttonEl =\n",
              "        document.querySelector('#df-6363df42-bb17-440c-838b-a7158aae0710 button.colab-df-convert');\n",
              "      buttonEl.style.display =\n",
              "        google.colab.kernel.accessAllowed ? 'block' : 'none';\n",
              "\n",
              "      async function convertToInteractive(key) {\n",
              "        const element = document.querySelector('#df-6363df42-bb17-440c-838b-a7158aae0710');\n",
              "        const dataTable =\n",
              "          await google.colab.kernel.invokeFunction('convertToInteractive',\n",
              "                                                    [key], {});\n",
              "        if (!dataTable) return;\n",
              "\n",
              "        const docLinkHtml = 'Like what you see? Visit the ' +\n",
              "          '<a target=\"_blank\" href=https://colab.research.google.com/notebooks/data_table.ipynb>data table notebook</a>'\n",
              "          + ' to learn more about interactive tables.';\n",
              "        element.innerHTML = '';\n",
              "        dataTable['output_type'] = 'display_data';\n",
              "        await google.colab.output.renderOutput(dataTable, element);\n",
              "        const docLink = document.createElement('div');\n",
              "        docLink.innerHTML = docLinkHtml;\n",
              "        element.appendChild(docLink);\n",
              "      }\n",
              "    </script>\n",
              "  </div>\n",
              "\n",
              "\n",
              "<div id=\"df-f20d0be3-c7bd-4b04-b2f5-baca1a48456a\">\n",
              "  <button class=\"colab-df-quickchart\" onclick=\"quickchart('df-f20d0be3-c7bd-4b04-b2f5-baca1a48456a')\"\n",
              "            title=\"Suggest charts\"\n",
              "            style=\"display:none;\">\n",
              "\n",
              "<svg xmlns=\"http://www.w3.org/2000/svg\" height=\"24px\"viewBox=\"0 0 24 24\"\n",
              "     width=\"24px\">\n",
              "    <g>\n",
              "        <path d=\"M19 3H5c-1.1 0-2 .9-2 2v14c0 1.1.9 2 2 2h14c1.1 0 2-.9 2-2V5c0-1.1-.9-2-2-2zM9 17H7v-7h2v7zm4 0h-2V7h2v10zm4 0h-2v-4h2v4z\"/>\n",
              "    </g>\n",
              "</svg>\n",
              "  </button>\n",
              "\n",
              "<style>\n",
              "  .colab-df-quickchart {\n",
              "      --bg-color: #E8F0FE;\n",
              "      --fill-color: #1967D2;\n",
              "      --hover-bg-color: #E2EBFA;\n",
              "      --hover-fill-color: #174EA6;\n",
              "      --disabled-fill-color: #AAA;\n",
              "      --disabled-bg-color: #DDD;\n",
              "  }\n",
              "\n",
              "  [theme=dark] .colab-df-quickchart {\n",
              "      --bg-color: #3B4455;\n",
              "      --fill-color: #D2E3FC;\n",
              "      --hover-bg-color: #434B5C;\n",
              "      --hover-fill-color: #FFFFFF;\n",
              "      --disabled-bg-color: #3B4455;\n",
              "      --disabled-fill-color: #666;\n",
              "  }\n",
              "\n",
              "  .colab-df-quickchart {\n",
              "    background-color: var(--bg-color);\n",
              "    border: none;\n",
              "    border-radius: 50%;\n",
              "    cursor: pointer;\n",
              "    display: none;\n",
              "    fill: var(--fill-color);\n",
              "    height: 32px;\n",
              "    padding: 0;\n",
              "    width: 32px;\n",
              "  }\n",
              "\n",
              "  .colab-df-quickchart:hover {\n",
              "    background-color: var(--hover-bg-color);\n",
              "    box-shadow: 0 1px 2px rgba(60, 64, 67, 0.3), 0 1px 3px 1px rgba(60, 64, 67, 0.15);\n",
              "    fill: var(--button-hover-fill-color);\n",
              "  }\n",
              "\n",
              "  .colab-df-quickchart-complete:disabled,\n",
              "  .colab-df-quickchart-complete:disabled:hover {\n",
              "    background-color: var(--disabled-bg-color);\n",
              "    fill: var(--disabled-fill-color);\n",
              "    box-shadow: none;\n",
              "  }\n",
              "\n",
              "  .colab-df-spinner {\n",
              "    border: 2px solid var(--fill-color);\n",
              "    border-color: transparent;\n",
              "    border-bottom-color: var(--fill-color);\n",
              "    animation:\n",
              "      spin 1s steps(1) infinite;\n",
              "  }\n",
              "\n",
              "  @keyframes spin {\n",
              "    0% {\n",
              "      border-color: transparent;\n",
              "      border-bottom-color: var(--fill-color);\n",
              "      border-left-color: var(--fill-color);\n",
              "    }\n",
              "    20% {\n",
              "      border-color: transparent;\n",
              "      border-left-color: var(--fill-color);\n",
              "      border-top-color: var(--fill-color);\n",
              "    }\n",
              "    30% {\n",
              "      border-color: transparent;\n",
              "      border-left-color: var(--fill-color);\n",
              "      border-top-color: var(--fill-color);\n",
              "      border-right-color: var(--fill-color);\n",
              "    }\n",
              "    40% {\n",
              "      border-color: transparent;\n",
              "      border-right-color: var(--fill-color);\n",
              "      border-top-color: var(--fill-color);\n",
              "    }\n",
              "    60% {\n",
              "      border-color: transparent;\n",
              "      border-right-color: var(--fill-color);\n",
              "    }\n",
              "    80% {\n",
              "      border-color: transparent;\n",
              "      border-right-color: var(--fill-color);\n",
              "      border-bottom-color: var(--fill-color);\n",
              "    }\n",
              "    90% {\n",
              "      border-color: transparent;\n",
              "      border-bottom-color: var(--fill-color);\n",
              "    }\n",
              "  }\n",
              "</style>\n",
              "\n",
              "  <script>\n",
              "    async function quickchart(key) {\n",
              "      const quickchartButtonEl =\n",
              "        document.querySelector('#' + key + ' button');\n",
              "      quickchartButtonEl.disabled = true;  // To prevent multiple clicks.\n",
              "      quickchartButtonEl.classList.add('colab-df-spinner');\n",
              "      try {\n",
              "        const charts = await google.colab.kernel.invokeFunction(\n",
              "            'suggestCharts', [key], {});\n",
              "      } catch (error) {\n",
              "        console.error('Error during call to suggestCharts:', error);\n",
              "      }\n",
              "      quickchartButtonEl.classList.remove('colab-df-spinner');\n",
              "      quickchartButtonEl.classList.add('colab-df-quickchart-complete');\n",
              "    }\n",
              "    (() => {\n",
              "      let quickchartButtonEl =\n",
              "        document.querySelector('#df-f20d0be3-c7bd-4b04-b2f5-baca1a48456a button');\n",
              "      quickchartButtonEl.style.display =\n",
              "        google.colab.kernel.accessAllowed ? 'block' : 'none';\n",
              "    })();\n",
              "  </script>\n",
              "</div>\n",
              "\n",
              "    </div>\n",
              "  </div>\n"
            ],
            "application/vnd.google.colaboratory.intrinsic+json": {
              "type": "dataframe",
              "variable_name": "df",
              "summary": "{\n  \"name\": \"df\",\n  \"rows\": 100000,\n  \"fields\": [\n    {\n      \"column\": \"rate\",\n      \"properties\": {\n        \"dtype\": \"category\",\n        \"num_unique_values\": 4,\n        \"samples\": [\n          \"2\",\n          \"1\",\n          \"4\"\n        ],\n        \"semantic_type\": \"\",\n        \"description\": \"\"\n      }\n    },\n    {\n      \"column\": \"label\",\n      \"properties\": {\n        \"dtype\": \"number\",\n        \"std\": 1,\n        \"min\": -1,\n        \"max\": 1,\n        \"num_unique_values\": 2,\n        \"samples\": [\n          -1,\n          1\n        ],\n        \"semantic_type\": \"\",\n        \"description\": \"\"\n      }\n    },\n    {\n      \"column\": \"sentence\",\n      \"properties\": {\n        \"dtype\": \"string\",\n        \"num_unique_values\": 99974,\n        \"samples\": [\n          \"\\uc808\\ub300\\uc808\\ub300 \\uc0ac\\uc9c0\\ub9c8\\uc138\\uc694.....\\ud0dd\\ubc30\\ub294 \\ud64d\\ucf69\\uc5d0\\uc11c \\uc654\\ub124\\uc694~ \\ubc18\\ud488\\ub3c4 \\uc5b4\\ub824\\uc6b8\\uac83\\uac19\\uace0 \\uc544\\ubb34\\ub9ac \\uc911\\uad6d \\uc81c\\ud488\\uc774\\uc9c0\\ub9cc \\uc774\\ub807\\uac8c \\ud5c8\\uc811\\ud560 \\uc218 \\uc5c6\\ub124\\uc694.\\ud2b9\\ud788 \\ubaa8\\ud130\\ubd80\\ubd84... \\uc0ac\\uc9c4\\uc744 \\ucc0d\\uae30\\uc704\\ud574 \\ucee4\\ubc84\\ub97c \\ubc97\\uaca8\\ubd24\\uc2b5\\ub2c8\\ub2e4.\\uc0ac\\uc9c4\\uc73c\\ub860 \\uadf8\\ub97c\\ub4ef\\ud574 \\ubcf4\\uc774\\uc9c0\\ub9cc \\uadf8\\ub0e5 20\\ub9cc\\uc6d0 \\ub5a1\\uc0ac\\uba39\\uc5c8\\ub2e4 \\uc0dd\\uac01\\ud560\\ub835\\ub2c8\\ub2e4...\\u3160\\u3160\",\n          \"\\ubc30\\uc1a1\\ubc1b\\uc544\\uc11c \\ub09a\\uc2dc\\uac00\\uc11c \\ubb3c\\uc5b4\\ub4e4\\uc5b4\\uac14\\ub2e4\\ub098\\uc624\\ub2c8...\\ubb3c\\ub4e4\\uc5b4\\uc640\\uc11c \\uc591\\ub9d0\\uc774\\ub791 \\ub2e4 \\uc816\\uc5b4\\uc788\\ub124\\uc694...\\uac80\\uc218\\uc880 \\uc798 \\ud574\\uc11c \\ubcf4\\ub0b4\\uc8fc\\uc2dc\\uae38...\"\n        ],\n        \"semantic_type\": \"\",\n        \"description\": \"\"\n      }\n    },\n    {\n      \"column\": \"normalize_sentence\",\n      \"properties\": {\n        \"dtype\": \"string\",\n        \"num_unique_values\": 99909,\n        \"samples\": [\n          \"\\uad11\\uace0\\ubcf4\\uace0 \\uc0c0\\ub294\\ub370 \\ub4dc\\ub77c\\ub9c8\\ud2f1\\ud55c \\ud6a8\\uacfc\\uc5c6\\uace0 \\ud2f0\\ub3c4\\ub9ce\\ub098\\uc694\",\n          \"\\uc774\\uac74 \\ubb3c\\uac74\\uc88b\\uc2b5\\ub2c8\\ub2e4 \\ub2e8 \\uc880 \\uc587\\uc740\\ub4ef\\ud558\\ub124\\uc694\"\n        ],\n        \"semantic_type\": \"\",\n        \"description\": \"\"\n      }\n    },\n    {\n      \"column\": \"tokenized_sentence\",\n      \"properties\": {\n        \"dtype\": \"object\",\n        \"semantic_type\": \"\",\n        \"description\": \"\"\n      }\n    }\n  ]\n}"
            }
          },
          "metadata": {},
          "execution_count": 16
        }
      ],
      "source": [
        "df.head()"
      ]
    },
    {
      "cell_type": "code",
      "execution_count": 17,
      "metadata": {
        "colab": {
          "base_uri": "https://localhost:8080/",
          "height": 448
        },
        "id": "_KM7W6EaOLCi",
        "outputId": "6283e27c-6911-4dd3-e143-fd83cd2b67a4"
      },
      "outputs": [
        {
          "output_type": "execute_result",
          "data": {
            "text/plain": [
              "<Axes: >"
            ]
          },
          "metadata": {},
          "execution_count": 17
        },
        {
          "output_type": "display_data",
          "data": {
            "text/plain": [
              "<Figure size 640x480 with 1 Axes>"
            ],
            "image/png": "[encoded data removed]"
          },
          "metadata": {}
        }
      ],
      "source": [
        "from sklearn.model_selection import train_test_split\n",
        "\n",
        "train_df, test_df = train_test_split(df, test_size =0.2, random_state= 42)\n",
        "train_df['label'].hist()\n",
        "test_df['label'].hist()"
      ]
    },
    {
      "cell_type": "markdown",
      "metadata": {
        "id": "NhZtdagGsTVe"
      },
      "source": [
        "### STEP 4. 벡터화 진행 (Vectorization)"
      ]
    },
    {
      "cell_type": "markdown",
      "metadata": {
        "id": "867JeaHnsk56"
      },
      "source": [
        "#### Method 1. Word2Vec"
      ]
    },
    {
      "cell_type": "code",
      "execution_count": 18,
      "metadata": {
        "id": "AYfQVmjLkRnX"
      },
      "outputs": [],
      "source": [
        "from gensim.models import Word2Vec"
      ]
    },
    {
      "cell_type": "code",
      "execution_count": 19,
      "metadata": {
        "id": "AQr7Cfz_uvlI"
      },
      "outputs": [],
      "source": [
        "train_sentence = train_df['tokenized_sentence'].to_list()\n",
        "test_sentence = test_df['tokenized_sentence'].to_list()"
      ]
    },
    {
      "cell_type": "code",
      "source": [
        "%%time\n",
        "\n",
        "model = Word2Vec(\n",
        "    sentences=train_sentence,\n",
        "    vector_size=100,\n",
        "    window=5,\n",
        "    min_count=1,\n",
        "    workers=4,\n",
        "    seed=random_seed)"
      ],
      "metadata": {
        "colab": {
          "base_uri": "https://localhost:8080/"
        },
        "id": "0z1rhEUmxvZn",
        "outputId": "55645613-ac16-404b-c632-3f81d053d9cf"
      },
      "execution_count": 20,
      "outputs": [
        {
          "output_type": "stream",
          "name": "stdout",
          "text": [
            "CPU times: user 13.8 s, sys: 155 ms, total: 13.9 s\n",
            "Wall time: 7.94 s\n"
          ]
        }
      ]
    },
    {
      "cell_type": "code",
      "execution_count": 21,
      "metadata": {
        "id": "3pv0UKaV5scK"
      },
      "outputs": [],
      "source": [
        "model.build_vocab([['<UNK>']],update=True)"
      ]
    },
    {
      "cell_type": "code",
      "execution_count": null,
      "metadata": {
        "id": "FQwvqNfdr9ge"
      },
      "outputs": [],
      "source": [
        "# model.save(\"word2vec.model\")"
      ]
    },
    {
      "cell_type": "code",
      "execution_count": 23,
      "metadata": {
        "id": "YVnnb8XKsOAl"
      },
      "outputs": [],
      "source": [
        "vocab = list(model.wv.index_to_key)"
      ]
    },
    {
      "cell_type": "code",
      "execution_count": 24,
      "metadata": {
        "colab": {
          "base_uri": "https://localhost:8080/"
        },
        "id": "rZ2wqrS3s3k3",
        "outputId": "7298cab7-0186-43c0-dc14-01777b7c5df7"
      },
      "outputs": [
        {
          "output_type": "execute_result",
          "data": {
            "text/plain": [
              "(67928, list)"
            ]
          },
          "metadata": {},
          "execution_count": 24
        }
      ],
      "source": [
        "len(vocab),type(vocab)"
      ]
    },
    {
      "cell_type": "code",
      "execution_count": 25,
      "metadata": {
        "colab": {
          "base_uri": "https://localhost:8080/"
        },
        "id": "mbZZpBfrvyb7",
        "outputId": "370f35da-e2c3-4388-bfb2-607c542dc781"
      },
      "outputs": [
        {
          "output_type": "execute_result",
          "data": {
            "text/plain": [
              "[('별루', 0.8336011171340942),\n",
              " ('퀴드', 0.7080435156822205),\n",
              " ('골라내는게', 0.7006584405899048),\n",
              " ('반창고', 0.7004861235618591),\n",
              " ('헷갈려요', 0.6861124634742737),\n",
              " ('☹', 0.675281286239624),\n",
              " ('산듯쵝오', 0.6712638735771179),\n",
              " ('날렸네', 0.6689013242721558),\n",
              " ('그대로', 0.6648790836334229),\n",
              " ('싸구려', 0.6608191132545471)]"
            ]
          },
          "metadata": {},
          "execution_count": 25
        }
      ],
      "source": [
        "model.wv.most_similar('별로', topn=10)"
      ]
    },
    {
      "cell_type": "code",
      "execution_count": 26,
      "metadata": {
        "colab": {
          "base_uri": "https://localhost:8080/"
        },
        "id": "V2WNGlawJQRh",
        "outputId": "01ef31d7-dcc7-4ffb-9867-7846cba988e0"
      },
      "outputs": [
        {
          "output_type": "stream",
          "name": "stderr",
          "text": [
            "100%|██████████| 80000/80000 [02:26<00:00, 544.81it/s]\n",
            "100%|██████████| 20000/20000 [00:54<00:00, 365.94it/s]\n"
          ]
        }
      ],
      "source": [
        "train_sentence_vector = []\n",
        "for cur_sent in tqdm(train_sentence):\n",
        "  vector = np.zeros(100,)\n",
        "  for word in cur_sent:\n",
        "    if word in vocab:\n",
        "      vector += model.wv[word]\n",
        "  train_sentence_vector.append(vector)\n",
        "\n",
        "test_sentence_vector = []\n",
        "for cur_sent in tqdm(test_sentence):\n",
        "  vector = np.zeros(100,)\n",
        "  for word in cur_sent:\n",
        "    if word in vocab:\n",
        "      vector += model.wv[word]\n",
        "  test_sentence_vector.append(vector)"
      ]
    },
    {
      "cell_type": "code",
      "execution_count": 27,
      "metadata": {
        "id": "v_oc9lQrzqYu"
      },
      "outputs": [],
      "source": [
        "train_df['w2v_sentence_vector'] = train_sentence_vector\n",
        "test_df['w2v_sentence_vector'] = test_sentence_vector"
      ]
    },
    {
      "cell_type": "markdown",
      "metadata": {
        "id": "oQqxDIcb__Kv"
      },
      "source": [
        "#### Method 2. Glove"
      ]
    },
    {
      "cell_type": "code",
      "execution_count": 29,
      "metadata": {
        "colab": {
          "base_uri": "https://localhost:8080/"
        },
        "id": "vVPPO1-WAANR",
        "outputId": "6ff7f1fd-b4ab-4647-f7fa-e953a0d8e327"
      },
      "outputs": [
        {
          "output_type": "stream",
          "name": "stdout",
          "text": [
            "Performing 20 training epochs with 4 threads\n",
            "Epoch 0\n",
            "Epoch 1\n",
            "Epoch 2\n",
            "Epoch 3\n",
            "Epoch 4\n",
            "Epoch 5\n",
            "Epoch 6\n",
            "Epoch 7\n",
            "Epoch 8\n",
            "Epoch 9\n",
            "Epoch 10\n",
            "Epoch 11\n",
            "Epoch 12\n",
            "Epoch 13\n",
            "Epoch 14\n",
            "Epoch 15\n",
            "Epoch 16\n",
            "Epoch 17\n",
            "Epoch 18\n",
            "Epoch 19\n"
          ]
        }
      ],
      "source": [
        "from glove import Corpus, Glove\n",
        "\n",
        "corpus = Corpus()\n",
        "\n",
        "# 훈련 데이터로부터 GloVe에서 사용할 동시 등장 행렬 생성\n",
        "corpus.fit(train_sentence, window=5)\n",
        "glove = Glove(no_components=100, learning_rate=0.05, random_state=2024)\n",
        "\n",
        "# 학습에 이용할 쓰레드의 개수는 4로 설정, 에포크는 20.\n",
        "glove.fit(corpus.matrix, epochs=20, no_threads=4, verbose=True)\n",
        "glove.add_dictionary(corpus.dictionary)"
      ]
    },
    {
      "cell_type": "code",
      "execution_count": 30,
      "metadata": {
        "colab": {
          "base_uri": "https://localhost:8080/"
        },
        "id": "QqGZD17kCW-6",
        "outputId": "7608283a-83fe-4907-bad3-a8c975b00272"
      },
      "outputs": [
        {
          "output_type": "execute_result",
          "data": {
            "text/plain": [
              "[('에요', 0.9366742949305389),\n",
              " ('예요', 0.9133617389333968),\n",
              " ('임', 0.8983923454640644),\n",
              " ('였어요', 0.8832939652662833),\n",
              " ('별루', 0.8694994807752617),\n",
              " ('였네요', 0.8482244003750629),\n",
              " ('붙지안음', 0.8212692045321469),\n",
              " ('솔직히', 0.7985152031764169),\n",
              " ('최고', 0.7861423934610727)]"
            ]
          },
          "metadata": {},
          "execution_count": 30
        }
      ],
      "source": [
        "glove.most_similar(\"별로\",number=10)"
      ]
    },
    {
      "cell_type": "code",
      "execution_count": 31,
      "metadata": {
        "colab": {
          "base_uri": "https://localhost:8080/"
        },
        "id": "TgmJAprn0uCD",
        "outputId": "3c41b37c-accb-4145-a3c7-a1f0044072aa"
      },
      "outputs": [
        {
          "output_type": "stream",
          "name": "stderr",
          "text": [
            "100%|██████████| 67927/67927 [00:00<00:00, 1837383.27it/s]\n"
          ]
        }
      ],
      "source": [
        "vocab = []\n",
        "for word, word_idx in tqdm(glove.dictionary.items()):\n",
        "  vocab.append(word)"
      ]
    },
    {
      "cell_type": "code",
      "execution_count": 32,
      "metadata": {
        "colab": {
          "base_uri": "https://localhost:8080/"
        },
        "id": "8APe6cax8vej",
        "outputId": "3997d379-1759-4b47-9501-00489a02bc01"
      },
      "outputs": [
        {
          "output_type": "stream",
          "name": "stderr",
          "text": [
            "100%|██████████| 80000/80000 [02:58<00:00, 448.41it/s]\n",
            "100%|██████████| 20000/20000 [01:01<00:00, 324.42it/s]\n"
          ]
        }
      ],
      "source": [
        "train_sentence_vector = []\n",
        "for cur_sent in tqdm(train_sentence):\n",
        "  vector = np.zeros(100,)\n",
        "  for word in cur_sent:\n",
        "    if word in vocab:\n",
        "      vector += glove.word_vectors[glove.dictionary[word]]\n",
        "  train_sentence_vector.append(vector)\n",
        "\n",
        "test_sentence_vector = []\n",
        "for cur_sent in tqdm(test_sentence):\n",
        "  vector = np.zeros(100,)\n",
        "  for word in cur_sent:\n",
        "    if word in vocab:\n",
        "      vector += glove.word_vectors[glove.dictionary[word]]\n",
        "  test_sentence_vector.append(vector)"
      ]
    },
    {
      "cell_type": "code",
      "execution_count": 33,
      "metadata": {
        "id": "IQxHkLGW-Cl9"
      },
      "outputs": [],
      "source": [
        "train_df['glove_sentence_vector'] = train_sentence_vector\n",
        "test_df['glove_sentence_vector'] = test_sentence_vector"
      ]
    },
    {
      "cell_type": "markdown",
      "metadata": {
        "id": "ZkkXDZwYDkPW"
      },
      "source": [
        "#### Method 3. FastText"
      ]
    },
    {
      "cell_type": "code",
      "execution_count": 34,
      "metadata": {
        "colab": {
          "base_uri": "https://localhost:8080/"
        },
        "id": "Vm_Wm1N-CuU5",
        "outputId": "439a3072-2050-477b-c45a-c7ae5ee2081b"
      },
      "outputs": [
        {
          "output_type": "stream",
          "name": "stdout",
          "text": [
            "CPU times: user 33.5 s, sys: 357 ms, total: 33.9 s\n",
            "Wall time: 21.6 s\n"
          ]
        }
      ],
      "source": [
        "%%time\n",
        "from gensim.models import FastText\n",
        "\n",
        "model = FastText(\n",
        "    sentences = tokenized_sentence,\n",
        "    vector_size=100,\n",
        "    window=5,\n",
        "    min_count=1,\n",
        "    workers=4)"
      ]
    },
    {
      "cell_type": "code",
      "execution_count": 35,
      "metadata": {
        "id": "npnHNTWrEHZg"
      },
      "outputs": [],
      "source": [
        "vocab = list(model.wv.index_to_key)"
      ]
    },
    {
      "cell_type": "code",
      "execution_count": 36,
      "metadata": {
        "colab": {
          "base_uri": "https://localhost:8080/"
        },
        "id": "G1sUGiliEXrj",
        "outputId": "9f886be8-a558-49e1-a74a-73ae56147cfc"
      },
      "outputs": [
        {
          "output_type": "execute_result",
          "data": {
            "text/plain": [
              "77116"
            ]
          },
          "metadata": {},
          "execution_count": 36
        }
      ],
      "source": [
        "len(vocab)"
      ]
    },
    {
      "cell_type": "code",
      "execution_count": 37,
      "metadata": {
        "colab": {
          "base_uri": "https://localhost:8080/"
        },
        "id": "5UJFjOqTEXBZ",
        "outputId": "988f8ab9-9c13-4deb-cb7e-74f7dc44f7e4"
      },
      "outputs": [
        {
          "output_type": "execute_result",
          "data": {
            "text/plain": [
              "[('별로넷', 0.9901315569877625),\n",
              " ('별루', 0.8376007080078125),\n",
              " ('닥별루', 0.8289772272109985),\n",
              " ('별루없', 0.8220986127853394),\n",
              " ('좀별루', 0.8215789198875427),\n",
              " ('핏이별루', 0.8204891681671143),\n",
              " ('쨋든별루', 0.8193995952606201),\n",
              " ('별루별루', 0.8188643455505371),\n",
              " ('별루별루별루별루', 0.8143751621246338),\n",
              " ('별루다', 0.8108457922935486)]"
            ]
          },
          "metadata": {},
          "execution_count": 37
        }
      ],
      "source": [
        "model.wv.most_similar('별로', topn=10)"
      ]
    },
    {
      "cell_type": "code",
      "execution_count": 38,
      "metadata": {
        "colab": {
          "base_uri": "https://localhost:8080/"
        },
        "id": "rvCCVROa-Ia6",
        "outputId": "ff8577c7-45cf-4c51-f5a1-7764d7be5c6e"
      },
      "outputs": [
        {
          "output_type": "stream",
          "name": "stderr",
          "text": [
            "100%|██████████| 80000/80000 [02:23<00:00, 557.67it/s]\n",
            "100%|██████████| 20000/20000 [00:36<00:00, 549.96it/s]\n"
          ]
        }
      ],
      "source": [
        "train_sentence_vector = []\n",
        "for cur_sent in tqdm(train_sentence):\n",
        "  vector = np.zeros(100,)\n",
        "  for word in cur_sent:\n",
        "    if word in vocab:\n",
        "      vector += model.wv[word]\n",
        "  train_sentence_vector.append(vector)\n",
        "\n",
        "test_sentence_vector = []\n",
        "for cur_sent in tqdm(test_sentence):\n",
        "  vector = np.zeros(100,)\n",
        "  for word in cur_sent:\n",
        "    if word in vocab:\n",
        "      vector += model.wv[word]\n",
        "  test_sentence_vector.append(vector)"
      ]
    },
    {
      "cell_type": "code",
      "execution_count": 39,
      "metadata": {
        "id": "Cgq8oHJm-KqF"
      },
      "outputs": [],
      "source": [
        "train_df['ft_sentence_vector'] = train_sentence_vector\n",
        "test_df['ft_sentence_vector'] = test_sentence_vector"
      ]
    },
    {
      "cell_type": "code",
      "execution_count": null,
      "metadata": {
        "id": "2EpRAxxNElAT"
      },
      "outputs": [],
      "source": [
        "# train_df.to_csv('./train_df.csv')\n",
        "# test_df.to_csv('./test_df.csv')"
      ]
    },
    {
      "cell_type": "markdown",
      "metadata": {
        "id": "6v2UDIcOEoKb"
      },
      "source": [
        "### STEP 5. 모델 구축하기 (Modeling)\n",
        "* Word2Vec, Glove, FastText를 활용하여 감성분석 모델 만들기\n"
      ]
    },
    {
      "cell_type": "markdown",
      "metadata": {
        "id": "rcRt3NVPDLx0"
      },
      "source": [
        "#### Word2Vec을 사용하여 감성 분석하기"
      ]
    },
    {
      "cell_type": "code",
      "execution_count": 56,
      "metadata": {
        "id": "fP9RnMN_4RZF"
      },
      "outputs": [],
      "source": [
        "w2v_df = train_df[['label','w2v_sentence_vector']]"
      ]
    },
    {
      "cell_type": "code",
      "execution_count": 57,
      "metadata": {
        "colab": {
          "base_uri": "https://localhost:8080/"
        },
        "id": "KuFIMx5EqP7i",
        "outputId": "7f3a9dfd-a648-4a6e-8b3b-6123e57a6fc8"
      },
      "outputs": [
        {
          "output_type": "execute_result",
          "data": {
            "text/plain": [
              "0.9995625"
            ]
          },
          "metadata": {},
          "execution_count": 57
        }
      ],
      "source": [
        "from sklearn.tree import DecisionTreeClassifier\n",
        "\n",
        "model = DecisionTreeClassifier(random_state=2024)\n",
        "\n",
        "sent_vec = np.stack(w2v_df.w2v_sentence_vector,axis=0)\n",
        "label_vec = np.array(w2v_df.label.to_list()).reshape(-1,)\n",
        "\n",
        "model = model.fit(sent_vec, label_vec)\n",
        "model.score(sent_vec, label_vec)"
      ]
    },
    {
      "cell_type": "code",
      "execution_count": 58,
      "metadata": {
        "colab": {
          "base_uri": "https://localhost:8080/"
        },
        "id": "4ycleXJ-DENb",
        "outputId": "9f36cdf0-b70f-4256-9e75-ba5621c9f253"
      },
      "outputs": [
        {
          "output_type": "execute_result",
          "data": {
            "text/plain": [
              "0.75765"
            ]
          },
          "metadata": {},
          "execution_count": 58
        }
      ],
      "source": [
        "w2v_df = test_df[['label','w2v_sentence_vector']]\n",
        "sent_vec = np.stack(w2v_df.w2v_sentence_vector,axis=0)\n",
        "label_vec = np.array(w2v_df.label.to_list()).reshape(-1,)\n",
        "model.score(sent_vec, label_vec)"
      ]
    },
    {
      "cell_type": "code",
      "execution_count": 51,
      "metadata": {
        "id": "1FlGjn8xIrEv"
      },
      "outputs": [],
      "source": [
        "glove_df = train_df[['label','glove_sentence_vector']]"
      ]
    },
    {
      "cell_type": "code",
      "execution_count": 52,
      "metadata": {
        "colab": {
          "base_uri": "https://localhost:8080/"
        },
        "id": "RTIWC_WRIq7W",
        "outputId": "ececd01b-bde6-4fa6-87c7-37271a39b085"
      },
      "outputs": [
        {
          "output_type": "execute_result",
          "data": {
            "text/plain": [
              "0.9995625"
            ]
          },
          "metadata": {},
          "execution_count": 52
        }
      ],
      "source": [
        "from sklearn.tree import DecisionTreeClassifier\n",
        "model = DecisionTreeClassifier(random_state=2024)\n",
        "\n",
        "sent_vec = np.stack(glove_df.glove_sentence_vector,axis=0)\n",
        "label_vec = np.array(glove_df.label.to_list()).reshape(-1,)\n",
        "\n",
        "model = model.fit(sent_vec, label_vec)\n",
        "model.score(sent_vec, label_vec)"
      ]
    },
    {
      "cell_type": "code",
      "execution_count": 53,
      "metadata": {
        "colab": {
          "base_uri": "https://localhost:8080/"
        },
        "id": "Nf4bsBsJIqsy",
        "outputId": "bae4f164-1eb6-45dc-b7ad-3aaf4152e151"
      },
      "outputs": [
        {
          "output_type": "execute_result",
          "data": {
            "text/plain": [
              "0.71645"
            ]
          },
          "metadata": {},
          "execution_count": 53
        }
      ],
      "source": [
        "glove_df = test_df[['label','glove_sentence_vector']]\n",
        "\n",
        "sent_vec = np.stack(glove_df.glove_sentence_vector,axis=0)\n",
        "label_vec = np.array(glove_df.label.to_list()).reshape(-1,)\n",
        "model.score(sent_vec, label_vec)"
      ]
    },
    {
      "cell_type": "code",
      "execution_count": 54,
      "metadata": {
        "colab": {
          "base_uri": "https://localhost:8080/"
        },
        "id": "V8x4-zHzI6PP",
        "outputId": "63208f82-361a-420f-e16e-87fc3177beba"
      },
      "outputs": [
        {
          "output_type": "execute_result",
          "data": {
            "text/plain": [
              "0.9995625"
            ]
          },
          "metadata": {},
          "execution_count": 54
        }
      ],
      "source": [
        "from sklearn.tree import DecisionTreeClassifier\n",
        "ft_df = train_df[['label','ft_sentence_vector']]\n",
        "\n",
        "model = DecisionTreeClassifier(random_state=2024)\n",
        "\n",
        "sent_vec = np.stack(ft_df.ft_sentence_vector,axis=0)\n",
        "label_vec = np.array(ft_df.label.to_list()).reshape(-1,)\n",
        "\n",
        "model = model.fit(sent_vec, label_vec)\n",
        "model.score(sent_vec, label_vec)"
      ]
    },
    {
      "cell_type": "code",
      "execution_count": 55,
      "metadata": {
        "colab": {
          "base_uri": "https://localhost:8080/"
        },
        "id": "uNT9sCxPJPtK",
        "outputId": "26f5486e-59c4-4d79-f38c-3b7b5f550a75"
      },
      "outputs": [
        {
          "output_type": "execute_result",
          "data": {
            "text/plain": [
              "0.75315"
            ]
          },
          "metadata": {},
          "execution_count": 55
        }
      ],
      "source": [
        "ft_df = test_df[['label','ft_sentence_vector']]\n",
        "\n",
        "sent_vec = np.stack(ft_df.ft_sentence_vector,axis=0)\n",
        "label_vec = np.array(ft_df.label.to_list()).reshape(-1,)\n",
        "model.score(sent_vec, label_vec)"
      ]
    },
    {
      "cell_type": "code",
      "source": [],
      "metadata": {
        "id": "kr3LmvWy33NB"
      },
      "execution_count": null,
      "outputs": []
    }
  ],
  "metadata": {
    "colab": {
      "provenance": []
    },
    "kernelspec": {
      "display_name": "Python 3",
      "name": "python3"
    },
    "language_info": {
      "name": "python"
    }
  },
  "nbformat": 4,
  "nbformat_minor": 0
}